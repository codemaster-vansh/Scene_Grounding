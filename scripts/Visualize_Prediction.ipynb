{
 "cells": [
  {
   "cell_type": "markdown",
   "id": "ba2cad6a",
   "metadata": {},
   "source": [
    "# Visualising Predictions"
   ]
  },
  {
   "cell_type": "markdown",
   "id": "5175f6aa",
   "metadata": {},
   "source": [
    "### 1. Installing required libraries"
   ]
  },
  {
   "cell_type": "code",
   "execution_count": null,
   "id": "76816950",
   "metadata": {},
   "outputs": [],
   "source": [
    "!pip install transformers torchvision torch"
   ]
  },
  {
   "cell_type": "markdown",
   "id": "9dc5b149",
   "metadata": {},
   "source": [
    "### 2. Imports and Model Initialization"
   ]
  },
  {
   "cell_type": "code",
   "execution_count": null,
   "id": "78449bdd",
   "metadata": {},
   "outputs": [],
   "source": [
    "import torch\n",
    "import numpy as np\n",
    "import matplotlib.pyplot as plt\n",
    "from pathlib import Path\n",
    "from PIL import Image\n",
    "from utils import FinalModel, visualize_prediction\n",
    "from transformers import RobertaModel, AutoTokenizer\n",
    "\n",
    "tokenizer = AutoTokenizer.from_pretrained(\"roberta-base\",add_prefix_space=True)\n",
    "text_encoder = RobertaModel.from_pretrained(\"roberta-base\")"
   ]
  },
  {
   "cell_type": "code",
   "execution_count": null,
   "id": "2b4190c2",
   "metadata": {},
   "outputs": [],
   "source": [
    "device = \"cuda\" if torch.cuda.is_available() else \"cpu\"\n",
    "model_save_weight_path : Path = Path(\"\") #put the save path here"
   ]
  },
  {
   "cell_type": "code",
   "execution_count": null,
   "id": "ba2859df",
   "metadata": {},
   "outputs": [],
   "source": [
    "model = FinalModel()\n",
    "state_dict = torch.load(model_save_weight_path)\n",
    "model.load_state_dict(state_dict)\n",
    "model.eval()"
   ]
  },
  {
   "cell_type": "markdown",
   "id": "2740fa4d",
   "metadata": {},
   "source": [
    "## 3. Evaluate"
   ]
  },
  {
   "cell_type": "code",
   "execution_count": null,
   "id": "64bb4ed0",
   "metadata": {},
   "outputs": [],
   "source": [
    "phrase = \"\"\n",
    "img_path : Path = Path(\"\")"
   ]
  },
  {
   "cell_type": "code",
   "execution_count": null,
   "id": "a0f56033",
   "metadata": {},
   "outputs": [],
   "source": [
    "#Run this cell to see the image before predicted boxes\n",
    "img = Image.open(img_path).convert(\"RGB\")\n",
    "img_np = np.array(img)\n",
    "plt.imshow(img_np)\n",
    "plt.axis('off')\n",
    "plt.title(\"The image\")\n",
    "plt.show()"
   ]
  },
  {
   "cell_type": "code",
   "execution_count": null,
   "id": "5f1ac941",
   "metadata": {},
   "outputs": [],
   "source": [
    "visualize_prediction(model,img_path,phrase,tokenizer,device)"
   ]
  }
 ],
 "metadata": {
  "kernelspec": {
   "display_name": "pytorch",
   "language": "python",
   "name": "python3"
  },
  "language_info": {
   "name": "python",
   "version": "3.11.9"
  }
 },
 "nbformat": 4,
 "nbformat_minor": 5
}
