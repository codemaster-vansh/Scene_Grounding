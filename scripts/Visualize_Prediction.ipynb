{
  "cells": [
    {
      "cell_type": "code",
      "source": [
        "!pip install transformers"
      ],
      "metadata": {
        "id": "aXfmcEhOftRl"
      },
      "id": "aXfmcEhOftRl",
      "execution_count": null,
      "outputs": []
    },
    {
      "cell_type": "code",
      "source": [
        "from google.colab import drive\n",
        "drive.mount('/content/drive')"
      ],
      "metadata": {
        "id": "y_XKhf1zf113"
      },
      "id": "y_XKhf1zf113",
      "execution_count": null,
      "outputs": []
    },
    {
      "cell_type": "markdown",
      "id": "ba2cad6a",
      "metadata": {
        "id": "ba2cad6a"
      },
      "source": [
        "# Visualising Predictions"
      ]
    },
    {
      "cell_type": "markdown",
      "id": "9dc5b149",
      "metadata": {
        "id": "9dc5b149"
      },
      "source": [
        "### 1. Imports and Model Initialization"
      ]
    },
    {
      "cell_type": "code",
      "execution_count": 1,
      "id": "78449bdd",
      "metadata": {
        "id": "78449bdd",
        "outputId": "22978fbe-7a06-4096-e361-76fd9637ae0d",
        "colab": {
          "base_uri": "https://localhost:8080/"
        }
      },
      "outputs": [
        {
          "output_type": "stream",
          "name": "stderr",
          "text": [
            "/usr/local/lib/python3.11/dist-packages/huggingface_hub/utils/_auth.py:94: UserWarning: \n",
            "The secret `HF_TOKEN` does not exist in your Colab secrets.\n",
            "To authenticate with the Hugging Face Hub, create a token in your settings tab (https://huggingface.co/settings/tokens), set it as secret in your Google Colab and restart your session.\n",
            "You will be able to reuse this secret in all of your notebooks.\n",
            "Please note that authentication is recommended but still optional to access public models or datasets.\n",
            "  warnings.warn(\n",
            "Some weights of RobertaModel were not initialized from the model checkpoint at roberta-base and are newly initialized: ['pooler.dense.bias', 'pooler.dense.weight']\n",
            "You should probably TRAIN this model on a down-stream task to be able to use it for predictions and inference.\n"
          ]
        }
      ],
      "source": [
        "import torch\n",
        "import numpy as np\n",
        "import matplotlib.pyplot as plt\n",
        "from pathlib import Path\n",
        "from PIL import Image\n",
        "from utils import FinalModel, visualize_prediction\n",
        "from config_io import save_to_config, get_config_value\n",
        "from transformers import RobertaModel, AutoTokenizer\n",
        "\n",
        "tokenizer = AutoTokenizer.from_pretrained(\"roberta-base\",add_prefix_space=True)\n",
        "text_encoder = RobertaModel.from_pretrained(\"roberta-base\")"
      ]
    },
    {
      "cell_type": "code",
      "execution_count": 2,
      "id": "2b4190c2",
      "metadata": {
        "id": "2b4190c2"
      },
      "outputs": [],
      "source": [
        "device = \"cuda\" if torch.cuda.is_available() else \"cpu\"\n",
        "choices = [\"final_weights.pth\",\"best_weights.pth\"]      #Choose\n",
        "i = 1\n",
        "model_save_weight_path = None\n",
        "try:\n",
        "    model_save_weight_path = Path(get_config_value(\"CHECKPOINTS_PATH\")) / choices[i]\n",
        "except FileNotFoundError as e:\n",
        "    print(f\"Please provide the link for the {choices[i]}\")\n",
        "    model_save_weight_path = Path(\"/content/drive/MyDrive/refcoco_project/Weights_Checkpoint/best_weights.pth\")\n",
        "    save_to_config({\n",
        "        \"CHECKPOINTS_PATH\":str(model_save_weight_path.parent),\n",
        "    })"
      ]
    },
    {
      "cell_type": "code",
      "source": [
        "print(\"Weight file:\", model_save_weight_path)"
      ],
      "metadata": {
        "id": "40jX5j8cg9ZD"
      },
      "id": "40jX5j8cg9ZD",
      "execution_count": null,
      "outputs": []
    },
    {
      "cell_type": "code",
      "execution_count": null,
      "id": "ba2859df",
      "metadata": {
        "id": "ba2859df"
      },
      "outputs": [],
      "source": [
        "model = FinalModel(textbackbone=text_encoder)\n",
        "state_dict = torch.load(model_save_weight_path)\n",
        "model.load_state_dict(state_dict)\n",
        "model.eval()"
      ]
    },
    {
      "cell_type": "markdown",
      "id": "2740fa4d",
      "metadata": {
        "id": "2740fa4d"
      },
      "source": [
        "## 3. Evaluate"
      ]
    },
    {
      "cell_type": "code",
      "execution_count": null,
      "id": "64bb4ed0",
      "metadata": {
        "id": "64bb4ed0"
      },
      "outputs": [],
      "source": [
        "phrase = \"\"\n",
        "img_path : Path = Path(get_config_value(\"OUT_DIR\",default=\"not-set\")) / \"\"      #Fill with your folder first and then your"
      ]
    },
    {
      "cell_type": "code",
      "execution_count": null,
      "id": "a0f56033",
      "metadata": {
        "id": "a0f56033"
      },
      "outputs": [],
      "source": [
        "#Run this cell to see the image before predicted boxes\n",
        "img = Image.open(img_path).convert(\"RGB\")\n",
        "img_np = np.array(img)\n",
        "plt.imshow(img_np)\n",
        "plt.axis('off')\n",
        "plt.title(\"The image\")\n",
        "plt.show()"
      ]
    },
    {
      "cell_type": "code",
      "execution_count": null,
      "id": "5f1ac941",
      "metadata": {
        "id": "5f1ac941"
      },
      "outputs": [],
      "source": [
        "visualize_prediction(model,img_path,phrase,tokenizer,device)"
      ]
    }
  ],
  "metadata": {
    "kernelspec": {
      "display_name": "pytorch",
      "language": "python",
      "name": "python3"
    },
    "language_info": {
      "name": "python",
      "version": "3.11.9"
    },
    "colab": {
      "provenance": []
    }
  },
  "nbformat": 4,
  "nbformat_minor": 5
}