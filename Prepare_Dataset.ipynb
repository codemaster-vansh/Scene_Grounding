{
  "cells": [
    {
      "cell_type": "markdown",
      "id": "cfb8e7ab",
      "metadata": {},
      "source": [
        "# Prepare Dataset"
      ]
    },
    {
      "cell_type": "markdown",
      "id": "1dc9170e",
      "metadata": {},
      "source": [
        "**Below is the code to run to connect to google drive if working on Colab, else skip it and move to next one**"
      ]
    },
    {
      "cell_type": "code",
      "execution_count": null,
      "id": "8ddee648",
      "metadata": {},
      "outputs": [],
      "source": [
        "import sys, os\n",
        "from pathlib import Path"
      ]
    },
    {
      "cell_type": "code",
      "execution_count": null,
      "id": "1088efa6",
      "metadata": {
        "colab": {
          "base_uri": "https://localhost:8080/"
        },
        "id": "1088efa6",
        "outputId": "f31efb42-24cf-43e4-8128-1bdf36dd657b"
      },
      "outputs": [
        {
          "name": "stdout",
          "output_type": "stream",
          "text": [
            "Mounted at /content/drive\n",
            "All data will be saved to: /content/drive/MyDrive/refcoco_project\n"
          ]
        }
      ],
      "source": [
        "IN_COLAB = \"google.colab\" in sys.modules         # True only when the notebook is opened in Colab\n",
        "ROOT_DIR: Path                                   # will point either to CWD (local) or to Drive\n",
        "\n",
        "if IN_COLAB:\n",
        "    from google.colab import drive\n",
        "    drive.mount(\"/content/drive\")\n",
        "    ROOT_DIR = Path(\"/content/drive/MyDrive/refcoco_project\")  # change the name if you like\n",
        "else:\n",
        "    # Running outside Colab → fall back to current working directory\n",
        "    ROOT_DIR = Path.cwd()\n",
        "\n",
        "ROOT_DIR.mkdir(parents=True, exist_ok=True)      # make sure it exists\n",
        "print(\"All data will be saved to:\", ROOT_DIR.resolve())\n"
      ]
    },
    {
      "cell_type": "markdown",
      "id": "008077a3",
      "metadata": {},
      "source": [
        "**Run this if you are on PC**"
      ]
    },
    {
      "cell_type": "code",
      "execution_count": null,
      "id": "6ccc5a02",
      "metadata": {},
      "outputs": [],
      "source": [
        "DEFAULT_DIR_NAME = \"refcoco_project\"\n",
        "ROOT_DIR : Path = Path(\"\")          # change\n",
        "\n",
        "PROJ_DIR = ROOT_DIR / DEFAULT_DIR_NAME\n",
        "\n",
        "PROJ_DIR.mkdir(parents=True,exist_ok=True)\n",
        "\n",
        "print(\"All data will be saved to:\", ROOT_DIR.resolve())"
      ]
    },
    {
      "cell_type": "markdown",
      "id": "evPLzX6r9Gh0",
      "metadata": {
        "id": "evPLzX6r9Gh0"
      },
      "source": [
        "### 1. Installing and PreProcessing"
      ]
    },
    {
      "cell_type": "code",
      "execution_count": null,
      "id": "f6ea53a8",
      "metadata": {
        "id": "f6ea53a8"
      },
      "outputs": [],
      "source": [
        "import importlib.util, subprocess\n",
        "\n",
        "def _ensure(pkg):\n",
        "    if importlib.util.find_spec(pkg) is None:\n",
        "        subprocess.check_call([sys.executable, \"-m\", \"pip\", \"install\", pkg])\n",
        "for p in (\"datasets\", \"tqdm\", \"pillow\"):\n",
        "    _ensure(p)\n",
        "\n",
        "import json, random, time, shutil\n",
        "from urllib.parse import urlparse\n",
        "import requests\n",
        "from datasets import load_dataset\n",
        "from tqdm import tqdm\n",
        "\n",
        "os.makedirs(os.path.join(os.getcwd(),\"TEMP\"),exist_ok=True)"
      ]
    },
    {
      "cell_type": "markdown",
      "id": "kLZsMPI_9a_u",
      "metadata": {
        "id": "kLZsMPI_9a_u"
      },
      "source": [
        "Determine how many images you need. Remember the sum has to below 42404 as there as many samples only"
      ]
    },
    {
      "cell_type": "code",
      "execution_count": null,
      "id": "3632e72d",
      "metadata": {
        "id": "3632e72d"
      },
      "outputs": [],
      "source": [
        "NUM_TRAIN, NUM_VAL, NUM_TEST = 1500, 250, 250\n",
        "OVERSHOOT = 100                 # draw a few extra ids to offset 404 losses\n",
        "CACHE_DIR = ROOT_DIR / \"TEMP\"     # Hugging Face cache inside CWD\n",
        "OUT_DIR   = ROOT_DIR / \"refcoco_2000\"\n",
        "TIMEOUT   = 30                  # seconds per image request\n",
        "random.seed(0)                  # reproducible splits"
      ]
    },
    {
      "cell_type": "markdown",
      "id": "smV8YN5M8JpA",
      "metadata": {
        "id": "smV8YN5M8JpA"
      },
      "source": [
        "Below tells where Hugging Face to store all cache like datasets, etc. It usually defaults to python storage in C: unless specified by line below"
      ]
    },
    {
      "cell_type": "code",
      "execution_count": null,
      "id": "0b575f65",
      "metadata": {
        "id": "0b575f65"
      },
      "outputs": [],
      "source": [
        "import os\n",
        "os.environ[\"HF_HOME\"] = str(CACHE_DIR.resolve())"
      ]
    },
    {
      "cell_type": "markdown",
      "id": "-dfwKnuH8WDy",
      "metadata": {
        "id": "-dfwKnuH8WDy"
      },
      "source": [
        "Create Train, Val and Test Splits"
      ]
    },
    {
      "cell_type": "code",
      "execution_count": null,
      "id": "d5a186be",
      "metadata": {
        "id": "d5a186be"
      },
      "outputs": [],
      "source": [
        "for sub in (\"train\", \"val\", \"test\"):\n",
        "    (OUT_DIR / sub).mkdir(parents=True, exist_ok=True)\n",
        "CACHE_DIR.mkdir(parents=True, exist_ok=True)"
      ]
    },
    {
      "cell_type": "markdown",
      "id": "8OECSOAk8Zp0",
      "metadata": {
        "id": "8OECSOAk8Zp0"
      },
      "source": [
        "Loading from jxu124/refcoco dataset"
      ]
    },
    {
      "cell_type": "code",
      "execution_count": null,
      "id": "51bf7251",
      "metadata": {
        "colab": {
          "base_uri": "https://localhost:8080/",
          "height": 191,
          "referenced_widgets": [
            "45906d55697d4b6a91a25b27506628ef",
            "26d771c0625b463bb2990e81e52846c4",
            "81277ee4fa374a9693b4dc986e0b2b12",
            "8a57968cd6b24936a98ed4c951aabac2",
            "cddb1a577efe48f6950f521485d0d197",
            "9246627cb06c4202b23b92d1f9e410d7",
            "942f4b4f332c41de9eb33686b4e51c87",
            "c61ffb4b70814457bae9948ea5a0e9e9",
            "8e9fbe0ba4c945aa867ad690ca23fb47",
            "1c13056aeee14712862c15cd5b0a7d54",
            "29c58844de7d4a759b719ef1123f9fd9"
          ]
        },
        "id": "51bf7251",
        "outputId": "9370cc98-09b5-415c-9b5f-d8dfe525237a"
      },
      "outputs": [
        {
          "name": "stdout",
          "output_type": "stream",
          "text": [
            "→ Streaming RefCOCO-UNC 'train' split from Hugging Face …\n"
          ]
        },
        {
          "name": "stderr",
          "output_type": "stream",
          "text": [
            "/usr/local/lib/python3.11/dist-packages/huggingface_hub/utils/_auth.py:94: UserWarning: \n",
            "The secret `HF_TOKEN` does not exist in your Colab secrets.\n",
            "To authenticate with the Hugging Face Hub, create a token in your settings tab (https://huggingface.co/settings/tokens), set it as secret in your Google Colab and restart your session.\n",
            "You will be able to reuse this secret in all of your notebooks.\n",
            "Please note that authentication is recommended but still optional to access public models or datasets.\n",
            "  warnings.warn(\n"
          ]
        },
        {
          "data": {
            "application/vnd.jupyter.widget-view+json": {
              "model_id": "45906d55697d4b6a91a25b27506628ef",
              "version_major": 2,
              "version_minor": 0
            },
            "text/plain": [
              "README.md: 0.00B [00:00, ?B/s]"
            ]
          },
          "metadata": {},
          "output_type": "display_data"
        }
      ],
      "source": [
        "print(\"→ Streaming RefCOCO-UNC 'train' split from Hugging Face …\")\n",
        "hf_train = load_dataset(\n",
        "    \"jxu124/refcoco\",\n",
        "    split=\"train\",\n",
        "    cache_dir=str(CACHE_DIR),\n",
        "    streaming=True,          # prevent full download into RAM\n",
        ")"
      ]
    },
    {
      "cell_type": "markdown",
      "id": "NCFShstJ8jc9",
      "metadata": {
        "id": "NCFShstJ8jc9"
      },
      "source": [
        "Splitting all IDS"
      ]
    },
    {
      "cell_type": "code",
      "execution_count": null,
      "id": "e599d590",
      "metadata": {
        "colab": {
          "base_uri": "https://localhost:8080/"
        },
        "id": "e599d590",
        "outputId": "1836339c-6614-4f9d-ea78-95fa2148a566"
      },
      "outputs": [
        {
          "name": "stdout",
          "output_type": "stream",
          "text": [
            "→ Indexing examples by image-id …\n"
          ]
        },
        {
          "name": "stderr",
          "output_type": "stream",
          "text": [
            "Indexing: 42404it [00:44, 952.90it/s] \n"
          ]
        }
      ],
      "source": [
        "print(\"→ Indexing examples by image-id …\")\n",
        "imgid2samples = {}\n",
        "for ex in tqdm(hf_train, desc=\"Indexing\"):\n",
        "    img_id = ex[\"image_id\"]\n",
        "    imgid2samples.setdefault(img_id, []).append(ex)\n",
        "\n",
        "ALL_IDS = list(imgid2samples)\n",
        "if len(ALL_IDS) < NUM_TRAIN + NUM_VAL + NUM_TEST:\n",
        "    raise RuntimeError(\"Dataset unexpectedly small.\")\n",
        "\n",
        "random.shuffle(ALL_IDS)\n",
        "train_ids = set(ALL_IDS[:NUM_TRAIN])\n",
        "val_ids   = set(ALL_IDS[NUM_TRAIN:NUM_TRAIN+NUM_VAL])\n",
        "test_ids  = set(ALL_IDS[NUM_TRAIN+NUM_VAL:NUM_TRAIN+NUM_VAL+NUM_TEST])"
      ]
    },
    {
      "cell_type": "markdown",
      "id": "3cT2ZBjg8mYI",
      "metadata": {
        "id": "3cT2ZBjg8mYI"
      },
      "source": [
        "Due to changes in the dataset, the url needs to be properly created/parsed"
      ]
    },
    {
      "cell_type": "code",
      "execution_count": null,
      "id": "d1ae6ad7",
      "metadata": {
        "id": "d1ae6ad7"
      },
      "outputs": [],
      "source": [
        "COCO_BASE = \"http://images.cocodataset.org/\"\n",
        "\n",
        "def canonical_url(p:str) -> str:\n",
        "    if p.startswith((\"http://\", \"https://\")):\n",
        "        return p\n",
        "    # drop any leading \"coco/\" in the relative path\n",
        "    rel = p.lstrip(\"/\").replace(\"coco/\", \"\")\n",
        "    return COCO_BASE + rel"
      ]
    },
    {
      "cell_type": "code",
      "execution_count": null,
      "id": "ffe4a2e8",
      "metadata": {
        "id": "ffe4a2e8"
      },
      "outputs": [],
      "source": [
        "def download_jpeg(rel_or_abs: str, dest: Path, timeout: int = 30) -> bool:\n",
        "    \"\"\"\n",
        "    Stream a JPEG to `dest`.\n",
        "\n",
        "    Returns\n",
        "    -------\n",
        "    bool\n",
        "        True  – image is now present on disk (either it was already there,\n",
        "                or it has just been downloaded successfully).\n",
        "        False – file is still missing due to 404/network failure.\n",
        "    \"\"\"\n",
        "    dest.parent.mkdir(parents=True, exist_ok=True)\n",
        "\n",
        "    # Below checks if any data exists as file_path, if it does we skip (image already there)\n",
        "    if dest.exists():\n",
        "        return True\n",
        "\n",
        "    url = canonical_url(rel_or_abs)\n",
        "    try:\n",
        "        r = requests.get(url, stream=True, timeout=timeout)\n",
        "        if r.status_code == 404:\n",
        "            return False\n",
        "        r.raise_for_status()\n",
        "\n",
        "        # Stores the image\n",
        "        with dest.open(\"wb\") as f_out:\n",
        "            for chunk in r.iter_content(chunk_size=8192):\n",
        "                if chunk:\n",
        "                    f_out.write(chunk)\n",
        "\n",
        "        # Returns True if something was written\n",
        "        return dest.stat().st_size > 0\n",
        "\n",
        "    except requests.RequestException:\n",
        "        dest.unlink(missing_ok=True)                        # clean half baked files\n",
        "        return False\n"
      ]
    },
    {
      "cell_type": "markdown",
      "id": "3Lpw3rh888J9",
      "metadata": {
        "id": "3Lpw3rh888J9"
      },
      "source": [
        "### 2. Processing the Dataset into final splits and Annotations"
      ]
    },
    {
      "cell_type": "code",
      "execution_count": null,
      "id": "d4917e7a",
      "metadata": {
        "id": "d4917e7a"
      },
      "outputs": [],
      "source": [
        "ann_train, ann_val, ann_test = [], [], []\n",
        "counters = {\"train\": 0, \"val\": 0, \"test\": 0}\n",
        "next_new = 1\n",
        "\n",
        "splits = [(\"train\", train_ids, ann_train, NUM_TRAIN),\n",
        "          (\"val\",   val_ids,   ann_val,   NUM_VAL),\n",
        "          (\"test\",  test_ids,  ann_test,  NUM_TEST)]"
      ]
    },
    {
      "cell_type": "markdown",
      "id": "tAW6zvh89PFq",
      "metadata": {
        "id": "tAW6zvh89PFq"
      },
      "source": [
        "This may take upto one hour, due to connection speeds from HuggingFace Server"
      ]
    },
    {
      "cell_type": "code",
      "execution_count": null,
      "id": "6dc686f5",
      "metadata": {
        "colab": {
          "base_uri": "https://localhost:8080/"
        },
        "id": "6dc686f5",
        "outputId": "f3bfe7fe-0505-471b-b327-62b377c1e8b1"
      },
      "outputs": [
        {
          "name": "stdout",
          "output_type": "stream",
          "text": [
            "→ Writing JPEGs and JSON annotations …\n"
          ]
        },
        {
          "name": "stderr",
          "output_type": "stream",
          "text": [
            "Processing train: 100%|██████████| 1500/1500 [27:52<00:00,  1.12s/it]\n"
          ]
        },
        {
          "name": "stdout",
          "output_type": "stream",
          "text": [
            "✓ train quota reached (1500)\n"
          ]
        },
        {
          "name": "stderr",
          "output_type": "stream",
          "text": [
            "Processing val: 100%|██████████| 250/250 [04:38<00:00,  1.11s/it]\n"
          ]
        },
        {
          "name": "stdout",
          "output_type": "stream",
          "text": [
            "✓ val quota reached (250)\n"
          ]
        },
        {
          "name": "stderr",
          "output_type": "stream",
          "text": [
            "Processing test: 100%|██████████| 250/250 [04:43<00:00,  1.13s/it]"
          ]
        },
        {
          "name": "stdout",
          "output_type": "stream",
          "text": [
            "✓ test quota reached (250)\n"
          ]
        },
        {
          "name": "stderr",
          "output_type": "stream",
          "text": [
            "\n"
          ]
        }
      ],
      "source": [
        "print(\"→ Writing JPEGs and JSON annotations …\")\n",
        "\n",
        "for split_name, id_pool, ann_list, need in splits:\n",
        "    for orig_id in tqdm(id_pool, desc=f\"Processing {split_name}\"):\n",
        "        if counters[split_name] >= need:   # already met quota\n",
        "            continue\n",
        "        samples = imgid2samples[orig_id]\n",
        "        img_url = samples[0][\"image_path\"]         # full COCO URL\n",
        "        dest = OUT_DIR / split_name / f\"image_{next_new:04d}.jpg\"\n",
        "        ok = download_jpeg(img_url, dest,TIMEOUT)\n",
        "        if not ok:\n",
        "            continue                                  # skip missing image\n",
        "        # success\n",
        "        for s in samples:\n",
        "            for phrase in s[\"captions\"]:\n",
        "                ann_list.append({\n",
        "                    \"image_id\": next_new,\n",
        "                    \"phrase\":   phrase,\n",
        "                    \"bbox\":     s[\"bbox\"],\n",
        "                })\n",
        "        counters[split_name] += 1\n",
        "        next_new += 1\n",
        "        if counters[split_name] == need:\n",
        "            print(f\"✓ {split_name} quota reached ({need})\")"
      ]
    },
    {
      "cell_type": "markdown",
      "id": "aF3Dl-R59lr8",
      "metadata": {
        "id": "aF3Dl-R59lr8"
      },
      "source": [
        "Assertation - Check and Balance Only"
      ]
    },
    {
      "cell_type": "code",
      "execution_count": null,
      "id": "84ae0e9e",
      "metadata": {
        "id": "84ae0e9e"
      },
      "outputs": [],
      "source": [
        "assert counters[\"train\"] == NUM_TRAIN, f\"train short: {counters['train']}\"\n",
        "assert counters[\"val\"]   == NUM_VAL,   f\"val short: {counters['val']}\"\n",
        "assert counters[\"test\"]  == NUM_TEST,  f\"test short: {counters['test']}\""
      ]
    },
    {
      "cell_type": "markdown",
      "id": "YVxu-EeU9oar",
      "metadata": {
        "id": "YVxu-EeU9oar"
      },
      "source": [
        "### 3. Save the Data"
      ]
    },
    {
      "cell_type": "code",
      "execution_count": null,
      "id": "93fa626d",
      "metadata": {
        "colab": {
          "base_uri": "https://localhost:8080/"
        },
        "id": "93fa626d",
        "outputId": "4bcfba08-cff9-47e8-92e7-c8f0a2966bf7"
      },
      "outputs": [
        {
          "name": "stdout",
          "output_type": "stream",
          "text": [
            "→ Saving JSON annotation files …\n",
            "\n",
            "✓ All done — refcoco_2000 subset ready in /content/drive/MyDrive/refcoco_project/refcoco_2000\n"
          ]
        }
      ],
      "source": [
        "print(\"→ Saving JSON annotation files …\")\n",
        "(OUT_DIR / \"anns_train.json\").write_text(json.dumps(ann_train, indent=2))\n",
        "(OUT_DIR / \"anns_val.json\"  ).write_text(json.dumps(ann_val,   indent=2))\n",
        "(OUT_DIR / \"anns_test.json\" ).write_text(json.dumps(ann_test,  indent=2))\n",
        "\n",
        "print(\"\\n✓ All done — refcoco_2000 subset ready in\", OUT_DIR.resolve())"
      ]
    },
    {
      "cell_type": "code",
      "execution_count": null,
      "id": "6862c24e",
      "metadata": {
        "id": "6862c24e"
      },
      "outputs": [],
      "source": []
    }
  ],
  "metadata": {
    "colab": {
      "provenance": []
    },
    "kernelspec": {
      "display_name": "pytorch",
      "language": "python",
      "name": "python3"
    },
    "language_info": {
      "codemirror_mode": {
        "name": "ipython",
        "version": 3
      },
      "file_extension": ".py",
      "mimetype": "text/x-python",
      "name": "python",
      "nbconvert_exporter": "python",
      "pygments_lexer": "ipython3",
      "version": "3.11.9"
    },
    "widgets": {
      "application/vnd.jupyter.widget-state+json": {
        "1c13056aeee14712862c15cd5b0a7d54": {
          "model_module": "@jupyter-widgets/base",
          "model_module_version": "1.2.0",
          "model_name": "LayoutModel",
          "state": {
            "_model_module": "@jupyter-widgets/base",
            "_model_module_version": "1.2.0",
            "_model_name": "LayoutModel",
            "_view_count": null,
            "_view_module": "@jupyter-widgets/base",
            "_view_module_version": "1.2.0",
            "_view_name": "LayoutView",
            "align_content": null,
            "align_items": null,
            "align_self": null,
            "border": null,
            "bottom": null,
            "display": null,
            "flex": null,
            "flex_flow": null,
            "grid_area": null,
            "grid_auto_columns": null,
            "grid_auto_flow": null,
            "grid_auto_rows": null,
            "grid_column": null,
            "grid_gap": null,
            "grid_row": null,
            "grid_template_areas": null,
            "grid_template_columns": null,
            "grid_template_rows": null,
            "height": null,
            "justify_content": null,
            "justify_items": null,
            "left": null,
            "margin": null,
            "max_height": null,
            "max_width": null,
            "min_height": null,
            "min_width": null,
            "object_fit": null,
            "object_position": null,
            "order": null,
            "overflow": null,
            "overflow_x": null,
            "overflow_y": null,
            "padding": null,
            "right": null,
            "top": null,
            "visibility": null,
            "width": null
          }
        },
        "26d771c0625b463bb2990e81e52846c4": {
          "model_module": "@jupyter-widgets/controls",
          "model_module_version": "1.5.0",
          "model_name": "HTMLModel",
          "state": {
            "_dom_classes": [],
            "_model_module": "@jupyter-widgets/controls",
            "_model_module_version": "1.5.0",
            "_model_name": "HTMLModel",
            "_view_count": null,
            "_view_module": "@jupyter-widgets/controls",
            "_view_module_version": "1.5.0",
            "_view_name": "HTMLView",
            "description": "",
            "description_tooltip": null,
            "layout": "IPY_MODEL_9246627cb06c4202b23b92d1f9e410d7",
            "placeholder": "​",
            "style": "IPY_MODEL_942f4b4f332c41de9eb33686b4e51c87",
            "value": "README.md: "
          }
        },
        "29c58844de7d4a759b719ef1123f9fd9": {
          "model_module": "@jupyter-widgets/controls",
          "model_module_version": "1.5.0",
          "model_name": "DescriptionStyleModel",
          "state": {
            "_model_module": "@jupyter-widgets/controls",
            "_model_module_version": "1.5.0",
            "_model_name": "DescriptionStyleModel",
            "_view_count": null,
            "_view_module": "@jupyter-widgets/base",
            "_view_module_version": "1.2.0",
            "_view_name": "StyleView",
            "description_width": ""
          }
        },
        "45906d55697d4b6a91a25b27506628ef": {
          "model_module": "@jupyter-widgets/controls",
          "model_module_version": "1.5.0",
          "model_name": "HBoxModel",
          "state": {
            "_dom_classes": [],
            "_model_module": "@jupyter-widgets/controls",
            "_model_module_version": "1.5.0",
            "_model_name": "HBoxModel",
            "_view_count": null,
            "_view_module": "@jupyter-widgets/controls",
            "_view_module_version": "1.5.0",
            "_view_name": "HBoxView",
            "box_style": "",
            "children": [
              "IPY_MODEL_26d771c0625b463bb2990e81e52846c4",
              "IPY_MODEL_81277ee4fa374a9693b4dc986e0b2b12",
              "IPY_MODEL_8a57968cd6b24936a98ed4c951aabac2"
            ],
            "layout": "IPY_MODEL_cddb1a577efe48f6950f521485d0d197"
          }
        },
        "81277ee4fa374a9693b4dc986e0b2b12": {
          "model_module": "@jupyter-widgets/controls",
          "model_module_version": "1.5.0",
          "model_name": "FloatProgressModel",
          "state": {
            "_dom_classes": [],
            "_model_module": "@jupyter-widgets/controls",
            "_model_module_version": "1.5.0",
            "_model_name": "FloatProgressModel",
            "_view_count": null,
            "_view_module": "@jupyter-widgets/controls",
            "_view_module_version": "1.5.0",
            "_view_name": "ProgressView",
            "bar_style": "success",
            "description": "",
            "description_tooltip": null,
            "layout": "IPY_MODEL_c61ffb4b70814457bae9948ea5a0e9e9",
            "max": 1,
            "min": 0,
            "orientation": "horizontal",
            "style": "IPY_MODEL_8e9fbe0ba4c945aa867ad690ca23fb47",
            "value": 1
          }
        },
        "8a57968cd6b24936a98ed4c951aabac2": {
          "model_module": "@jupyter-widgets/controls",
          "model_module_version": "1.5.0",
          "model_name": "HTMLModel",
          "state": {
            "_dom_classes": [],
            "_model_module": "@jupyter-widgets/controls",
            "_model_module_version": "1.5.0",
            "_model_name": "HTMLModel",
            "_view_count": null,
            "_view_module": "@jupyter-widgets/controls",
            "_view_module_version": "1.5.0",
            "_view_name": "HTMLView",
            "description": "",
            "description_tooltip": null,
            "layout": "IPY_MODEL_1c13056aeee14712862c15cd5b0a7d54",
            "placeholder": "​",
            "style": "IPY_MODEL_29c58844de7d4a759b719ef1123f9fd9",
            "value": " 1.27k/? [00:00&lt;00:00, 79.9kB/s]"
          }
        },
        "8e9fbe0ba4c945aa867ad690ca23fb47": {
          "model_module": "@jupyter-widgets/controls",
          "model_module_version": "1.5.0",
          "model_name": "ProgressStyleModel",
          "state": {
            "_model_module": "@jupyter-widgets/controls",
            "_model_module_version": "1.5.0",
            "_model_name": "ProgressStyleModel",
            "_view_count": null,
            "_view_module": "@jupyter-widgets/base",
            "_view_module_version": "1.2.0",
            "_view_name": "StyleView",
            "bar_color": null,
            "description_width": ""
          }
        },
        "9246627cb06c4202b23b92d1f9e410d7": {
          "model_module": "@jupyter-widgets/base",
          "model_module_version": "1.2.0",
          "model_name": "LayoutModel",
          "state": {
            "_model_module": "@jupyter-widgets/base",
            "_model_module_version": "1.2.0",
            "_model_name": "LayoutModel",
            "_view_count": null,
            "_view_module": "@jupyter-widgets/base",
            "_view_module_version": "1.2.0",
            "_view_name": "LayoutView",
            "align_content": null,
            "align_items": null,
            "align_self": null,
            "border": null,
            "bottom": null,
            "display": null,
            "flex": null,
            "flex_flow": null,
            "grid_area": null,
            "grid_auto_columns": null,
            "grid_auto_flow": null,
            "grid_auto_rows": null,
            "grid_column": null,
            "grid_gap": null,
            "grid_row": null,
            "grid_template_areas": null,
            "grid_template_columns": null,
            "grid_template_rows": null,
            "height": null,
            "justify_content": null,
            "justify_items": null,
            "left": null,
            "margin": null,
            "max_height": null,
            "max_width": null,
            "min_height": null,
            "min_width": null,
            "object_fit": null,
            "object_position": null,
            "order": null,
            "overflow": null,
            "overflow_x": null,
            "overflow_y": null,
            "padding": null,
            "right": null,
            "top": null,
            "visibility": null,
            "width": null
          }
        },
        "942f4b4f332c41de9eb33686b4e51c87": {
          "model_module": "@jupyter-widgets/controls",
          "model_module_version": "1.5.0",
          "model_name": "DescriptionStyleModel",
          "state": {
            "_model_module": "@jupyter-widgets/controls",
            "_model_module_version": "1.5.0",
            "_model_name": "DescriptionStyleModel",
            "_view_count": null,
            "_view_module": "@jupyter-widgets/base",
            "_view_module_version": "1.2.0",
            "_view_name": "StyleView",
            "description_width": ""
          }
        },
        "c61ffb4b70814457bae9948ea5a0e9e9": {
          "model_module": "@jupyter-widgets/base",
          "model_module_version": "1.2.0",
          "model_name": "LayoutModel",
          "state": {
            "_model_module": "@jupyter-widgets/base",
            "_model_module_version": "1.2.0",
            "_model_name": "LayoutModel",
            "_view_count": null,
            "_view_module": "@jupyter-widgets/base",
            "_view_module_version": "1.2.0",
            "_view_name": "LayoutView",
            "align_content": null,
            "align_items": null,
            "align_self": null,
            "border": null,
            "bottom": null,
            "display": null,
            "flex": null,
            "flex_flow": null,
            "grid_area": null,
            "grid_auto_columns": null,
            "grid_auto_flow": null,
            "grid_auto_rows": null,
            "grid_column": null,
            "grid_gap": null,
            "grid_row": null,
            "grid_template_areas": null,
            "grid_template_columns": null,
            "grid_template_rows": null,
            "height": null,
            "justify_content": null,
            "justify_items": null,
            "left": null,
            "margin": null,
            "max_height": null,
            "max_width": null,
            "min_height": null,
            "min_width": null,
            "object_fit": null,
            "object_position": null,
            "order": null,
            "overflow": null,
            "overflow_x": null,
            "overflow_y": null,
            "padding": null,
            "right": null,
            "top": null,
            "visibility": null,
            "width": "20px"
          }
        },
        "cddb1a577efe48f6950f521485d0d197": {
          "model_module": "@jupyter-widgets/base",
          "model_module_version": "1.2.0",
          "model_name": "LayoutModel",
          "state": {
            "_model_module": "@jupyter-widgets/base",
            "_model_module_version": "1.2.0",
            "_model_name": "LayoutModel",
            "_view_count": null,
            "_view_module": "@jupyter-widgets/base",
            "_view_module_version": "1.2.0",
            "_view_name": "LayoutView",
            "align_content": null,
            "align_items": null,
            "align_self": null,
            "border": null,
            "bottom": null,
            "display": null,
            "flex": null,
            "flex_flow": null,
            "grid_area": null,
            "grid_auto_columns": null,
            "grid_auto_flow": null,
            "grid_auto_rows": null,
            "grid_column": null,
            "grid_gap": null,
            "grid_row": null,
            "grid_template_areas": null,
            "grid_template_columns": null,
            "grid_template_rows": null,
            "height": null,
            "justify_content": null,
            "justify_items": null,
            "left": null,
            "margin": null,
            "max_height": null,
            "max_width": null,
            "min_height": null,
            "min_width": null,
            "object_fit": null,
            "object_position": null,
            "order": null,
            "overflow": null,
            "overflow_x": null,
            "overflow_y": null,
            "padding": null,
            "right": null,
            "top": null,
            "visibility": null,
            "width": null
          }
        }
      }
    }
  },
  "nbformat": 4,
  "nbformat_minor": 5
}
